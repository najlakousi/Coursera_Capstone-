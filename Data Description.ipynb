{
 "cells": [
  {
   "cell_type": "markdown",
   "metadata": {
    "collapsed": true
   },
   "source": [
    "## Data Description  <a name=\"data\"></a>\n",
    "\n",
    "#### First, the neighbourhoods of Toronto via postal codes will be scraped from a Wikipedia page. Second, an analysis of the venues will be performed to find out the top 5 hotspots of restaurant areas. Refugee housing data will be used to find out a few locations where the Syrian refugees live. \n",
    "\n",
    "#### as we said very important to chose a place  close to downtown Toronto so it is more purple and good for the market and as well away from all the Syrian  restaurant  style. \n",
    "\n",
    "\n",
    "#### The following factors will influence our decision of optimal location for the Syrian restaurant:\n",
    "   #### 1.  how many restaurants in the area . \n",
    "   #### 2. how many existing Syrian style restaurants in the area or their distance to the optimal location\n",
    "   #### 3. Distance of optimal location to the downtown Toronto area\n",
    "#### Therefore we will be using the following data to address these factors:\n",
    "   #### 1. Toronto postal code data scraped from Wikipedia page to make a dataframe of boroughs, neighbourhoods, latitude, and longitude\n",
    "   #### 2. Number of restaurants and their type and location in every neighborhood will be obtained using Foursquare API\n",
    "   #### 3. Coordinate of downtown Toronto will be obtained using Google coordinates of the CN tower, which is a well known tourist attraction located in downtown Toronto"
   ]
  },
  {
   "cell_type": "code",
   "execution_count": null,
   "metadata": {},
   "outputs": [],
   "source": []
  }
 ],
 "metadata": {
  "kernelspec": {
   "display_name": "Python 3.6",
   "language": "python",
   "name": "python3"
  },
  "language_info": {
   "codemirror_mode": {
    "name": "ipython",
    "version": 3
   },
   "file_extension": ".py",
   "mimetype": "text/x-python",
   "name": "python",
   "nbconvert_exporter": "python",
   "pygments_lexer": "ipython3",
   "version": "3.6.8"
  }
 },
 "nbformat": 4,
 "nbformat_minor": 1
}
