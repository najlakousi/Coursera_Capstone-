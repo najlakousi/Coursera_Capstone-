{
 "cells": [
  {
   "cell_type": "markdown",
   "metadata": {
    "collapsed": true
   },
   "source": [
    "##  Business Problem  <a name=\"introduction\"></a>\n",
    "\n",
    "#### we can see that the numbers of the Syrian refugees are increasing especially in Canada in Toronto. \n",
    "\n",
    "#### the problem that I will be looking to solve is that there is not a lot of Syrian style restaurants in Toronto i will talk in the report about the best location that I can open the restaurant so I will be able to higher the Syrian food in the market . \n",
    "\n",
    "#### for the business to be successful we will choose a location that will be away from the other restaurants and most important that the location is very close to downtown because as we know it's a very tourist popularity.."
   ]
  },
  {
   "cell_type": "code",
   "execution_count": null,
   "metadata": {},
   "outputs": [],
   "source": []
  }
 ],
 "metadata": {
  "kernelspec": {
   "display_name": "Python 3.6",
   "language": "python",
   "name": "python3"
  },
  "language_info": {
   "codemirror_mode": {
    "name": "ipython",
    "version": 3
   },
   "file_extension": ".py",
   "mimetype": "text/x-python",
   "name": "python",
   "nbconvert_exporter": "python",
   "pygments_lexer": "ipython3",
   "version": "3.6.8"
  }
 },
 "nbformat": 4,
 "nbformat_minor": 1
}
